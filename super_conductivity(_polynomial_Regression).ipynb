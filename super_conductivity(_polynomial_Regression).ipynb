{
  "nbformat": 4,
  "nbformat_minor": 0,
  "metadata": {
    "colab": {
      "name": "super conductivity(@polynomial-Regression)",
      "version": "0.3.2",
      "provenance": [],
      "collapsed_sections": []
    },
    "kernelspec": {
      "name": "python3",
      "display_name": "Python 3"
    },
    "accelerator": "GPU"
  },
  "cells": [
    {
      "cell_type": "code",
      "metadata": {
        "id": "x3dGG0KgPmNj",
        "colab_type": "code",
        "colab": {}
      },
      "source": [
        "import pandas as pd\n",
        "import numpy as np\n",
        "import matplotlib.pyplot as plt\n",
        "from IPython.display import clear_output\n",
        "import random"
      ],
      "execution_count": 0,
      "outputs": []
    },
    {
      "cell_type": "code",
      "metadata": {
        "id": "zzHx8zQEG_I3",
        "colab_type": "code",
        "outputId": "cee42502-4142-4b83-89f9-bac85ca87a5e",
        "colab": {
          "base_uri": "https://localhost:8080/",
          "height": 212
        }
      },
      "source": [
        "!wget https://archive.ics.uci.edu/ml/machine-learning-databases/00464/superconduct.zip"
      ],
      "execution_count": 0,
      "outputs": [
        {
          "output_type": "stream",
          "text": [
            "--2019-07-21 07:20:20--  https://archive.ics.uci.edu/ml/machine-learning-databases/00464/superconduct.zip\n",
            "Resolving archive.ics.uci.edu (archive.ics.uci.edu)... 128.195.10.252\n",
            "Connecting to archive.ics.uci.edu (archive.ics.uci.edu)|128.195.10.252|:443... connected.\n",
            "HTTP request sent, awaiting response... 200 OK\n",
            "Length: 8300005 (7.9M) [application/x-httpd-php]\n",
            "Saving to: ‘superconduct.zip’\n",
            "\n",
            "superconduct.zip    100%[===================>]   7.92M  8.55MB/s    in 0.9s    \n",
            "\n",
            "2019-07-21 07:20:21 (8.55 MB/s) - ‘superconduct.zip’ saved [8300005/8300005]\n",
            "\n"
          ],
          "name": "stdout"
        }
      ]
    },
    {
      "cell_type": "code",
      "metadata": {
        "id": "yYnOoVBpQ0gi",
        "colab_type": "code",
        "outputId": "1ed5df94-a82e-4514-90b8-aec1c9a370fa",
        "colab": {
          "base_uri": "https://localhost:8080/",
          "height": 70
        }
      },
      "source": [
        "!unzip superconduct.zip"
      ],
      "execution_count": 0,
      "outputs": [
        {
          "output_type": "stream",
          "text": [
            "Archive:  superconduct.zip\n",
            "  inflating: unique_m.csv            \n",
            "  inflating: train.csv               \n"
          ],
          "name": "stdout"
        }
      ]
    },
    {
      "cell_type": "code",
      "metadata": {
        "id": "YdgqWOSVG9hX",
        "colab_type": "code",
        "colab": {}
      },
      "source": [
        "data=pd.read_csv('train.csv')"
      ],
      "execution_count": 0,
      "outputs": []
    },
    {
      "cell_type": "code",
      "metadata": {
        "id": "l2Jwii5hVo8j",
        "colab_type": "code",
        "outputId": "366e4adf-b1aa-48ff-b76a-b6bd500e679a",
        "colab": {
          "base_uri": "https://localhost:8080/",
          "height": 1000
        }
      },
      "source": [
        "data.count"
      ],
      "execution_count": 0,
      "outputs": [
        {
          "output_type": "execute_result",
          "data": {
            "text/plain": [
              "<bound method DataFrame.count of        number_of_elements  mean_atomic_mass  ...  wtd_std_Valence  critical_temp\n",
              "0                       4         88.944468  ...         0.437059          29.00\n",
              "1                       5         92.729214  ...         0.468606          26.00\n",
              "2                       4         88.944468  ...         0.444697          19.00\n",
              "3                       4         88.944468  ...         0.440952          22.00\n",
              "4                       4         88.944468  ...         0.428809          23.00\n",
              "5                       4         88.944468  ...         0.410326          23.00\n",
              "6                       4         88.944468  ...         0.349927          11.00\n",
              "7                       4         76.517718  ...         0.444697          33.00\n",
              "8                       4         76.517718  ...         0.440952          36.00\n",
              "9                       4         76.517718  ...         0.437059          31.00\n",
              "10                      4         76.517718  ...         0.428809          33.00\n",
              "11                      5        111.273574  ...         0.428809          26.00\n",
              "12                      5         92.729214  ...         0.456864          27.00\n",
              "13                      5         92.729214  ...         0.468606          27.00\n",
              "14                      5         92.729214  ...         0.501579          26.00\n",
              "15                      5         92.729214  ...         0.550325          27.00\n",
              "16                      5         69.171250  ...         0.266469          82.00\n",
              "17                      4         88.944468  ...         0.440952          30.00\n",
              "18                      4         76.517718  ...         0.440952          39.00\n",
              "19                      4         76.517718  ...         0.448296          14.80\n",
              "20                      4         76.517718  ...         0.444697          30.00\n",
              "21                      4         76.517718  ...         0.435055          35.50\n",
              "22                      4         76.517718  ...         0.433013          23.30\n",
              "23                      4         76.517718  ...         0.428809          18.20\n",
              "24                      4         76.517718  ...         0.424444          18.30\n",
              "25                      4         76.517718  ...         0.419913          18.30\n",
              "26                      4         76.517718  ...         0.439024          37.50\n",
              "27                      4         64.632218  ...         0.440952          20.00\n",
              "28                      4         97.481600  ...         0.400000          76.90\n",
              "29                      4         97.481600  ...         0.497494          65.30\n",
              "...                   ...               ...  ...              ...            ...\n",
              "21233                   7         64.073395  ...         1.134206          10.10\n",
              "21234                   7         64.073395  ...         1.132999           2.89\n",
              "21235                   7         64.073395  ...         1.132999           7.50\n",
              "21236                   7         64.073395  ...         1.132999          18.60\n",
              "21237                   7         64.073395  ...         1.132999          24.10\n",
              "21238                   7         64.073395  ...         1.132999          26.60\n",
              "21239                   7         64.073395  ...         1.132999          27.90\n",
              "21240                   2        138.715500  ...         1.049781           6.70\n",
              "21241                   3        125.186800  ...         0.774268           3.05\n",
              "21242                   3        125.186800  ...         0.774268           3.06\n",
              "21243                   3        171.633667  ...         0.000000           2.92\n",
              "21244                   3        171.633667  ...         0.000000           2.84\n",
              "21245                   3        171.633667  ...         0.000000           2.29\n",
              "21246                   5         70.406250  ...         0.589456          78.00\n",
              "21247                   3        135.777533  ...         1.469694           1.60\n",
              "21248                   3        135.777533  ...         1.469694           2.13\n",
              "21249                   3        135.777533  ...         1.469694           3.80\n",
              "21250                   3        135.539823  ...         0.911290           8.29\n",
              "21251                   3        135.013667  ...         1.025623           4.98\n",
              "21252                   3         86.607717  ...         1.996090           1.85\n",
              "21253                   4         99.290200  ...         1.496663           1.60\n",
              "21254                   4         99.290200  ...         1.496663           3.00\n",
              "21255                   3         89.389833  ...         0.942809           1.42\n",
              "21256                   3         89.389833  ...         0.942809           1.85\n",
              "21257                   3         89.389833  ...         0.942809           3.43\n",
              "21258                   4        106.957877  ...         0.496904           2.44\n",
              "21259                   5         92.266740  ...         0.212959         122.10\n",
              "21260                   2         99.663190  ...         0.400000           1.98\n",
              "21261                   2         99.663190  ...         0.462493           1.84\n",
              "21262                   3         87.468333  ...         1.500000          12.80\n",
              "\n",
              "[21263 rows x 82 columns]>"
            ]
          },
          "metadata": {
            "tags": []
          },
          "execution_count": 5
        }
      ]
    },
    {
      "cell_type": "code",
      "metadata": {
        "id": "AMtKzEbFWXwr",
        "colab_type": "code",
        "colab": {}
      },
      "source": [
        "q=data['critical_temp']"
      ],
      "execution_count": 0,
      "outputs": []
    },
    {
      "cell_type": "code",
      "metadata": {
        "id": "Jtgg-S6xHvJB",
        "colab_type": "code",
        "outputId": "bb8a7c4a-0380-40f6-fed3-2e82d2e84d07",
        "colab": {
          "base_uri": "https://localhost:8080/",
          "height": 35
        }
      },
      "source": [
        "q.shape"
      ],
      "execution_count": 0,
      "outputs": [
        {
          "output_type": "execute_result",
          "data": {
            "text/plain": [
              "(21263,)"
            ]
          },
          "metadata": {
            "tags": []
          },
          "execution_count": 7
        }
      ]
    },
    {
      "cell_type": "code",
      "metadata": {
        "id": "OhnPfXUXWkYO",
        "colab_type": "code",
        "colab": {}
      },
      "source": [
        "x=data.drop(['critical_temp'],axis=1).copy()\n",
        "x=x.select_dtypes(\"int32\",\"int64\")"
      ],
      "execution_count": 0,
      "outputs": []
    },
    {
      "cell_type": "code",
      "metadata": {
        "id": "KERmMrX5W-Gd",
        "colab_type": "code",
        "colab": {}
      },
      "source": [
        "X_temp=x\n",
        "for i in range(0,len(x.T)):\n",
        "  X_temp.T.iloc[i]= X_temp.T.iloc[i]*(i+1)"
      ],
      "execution_count": 0,
      "outputs": []
    },
    {
      "cell_type": "code",
      "metadata": {
        "id": "yKR97Bu-abVH",
        "colab_type": "code",
        "colab": {}
      },
      "source": [
        "\n",
        "\n",
        "def curve(m,x,c):\n",
        "  return np.dot(m,x.T)+ c\n",
        "def error(m,x,c,q):\n",
        "  return np. mean((curve(m,x,c)-q)**2)\n",
        "def derivative_slopes(m,x,c,q):\n",
        "  arrow=(curve(m,x,c)-q)\n",
        "  temp= 2*np.mean(np.multiply(arrow,x.T),axis=1)\n",
        "  temp=np.array(temp)\n",
        "  temp=np.reshape(temp,(1,len(temp)))\n",
        "  return temp\n",
        "  \n",
        "def derivative_intercepts(m,x,c,q):\n",
        "  arrow=(curve(m,x,c)-q)\n",
        "  return 2* np.mean(arrow)\n",
        "def accuracy_pred(error,q):\n",
        "  currenterror=error(m,x,c,q)\n",
        "  maxerror=np.mean(q**2)\n",
        "  arrow=(currenterror/maxerror)*100\n",
        "  return 100-arrow\n"
      ],
      "execution_count": 0,
      "outputs": []
    },
    {
      "cell_type": "code",
      "metadata": {
        "id": "dcWwOJZ4de40",
        "colab_type": "code",
        "colab": {}
      },
      "source": [
        "q=q/q.max()\n",
        "x=x/x.max()"
      ],
      "execution_count": 0,
      "outputs": []
    },
    {
      "cell_type": "code",
      "metadata": {
        "id": "8akafwsrB0QE",
        "colab_type": "code",
        "colab": {}
      },
      "source": [
        "data=data.dropna(axis=1)"
      ],
      "execution_count": 0,
      "outputs": []
    },
    {
      "cell_type": "code",
      "metadata": {
        "id": "f6kxTzAlHRqx",
        "colab_type": "code",
        "outputId": "665709d0-e9f8-4c84-9ab7-4146ec562217",
        "colab": {
          "base_uri": "https://localhost:8080/",
          "height": 588
        }
      },
      "source": [
        "m =np.random.randn(len(x.T))\n",
        "c = random.random()\n",
        "cost=[]\n",
        "\n",
        "lr=0.1\n",
        "iterations=1000\n",
        "for i in range(iterations):\n",
        "  m = m-lr*derivative_slopes(m,x,c,q)\n",
        "  c = c-lr* derivative_intercepts(m,x,c,q)\n",
        "  cost.append(error(m,X_temp,c,q))\n",
        "  clear_output(True)\n",
        "  print(\"error:\",error(m,x,c,q))\n",
        "  print(\"accuracy:\",accuracy_pred(error,q)) \n",
        "plt.plot(cost)  \n",
        "plt.show()\n",
        "plt.xlabel(\"iterations\")\n",
        "plt.ylabel(\"error\")"
      ],
      "execution_count": 0,
      "outputs": [
        {
          "output_type": "stream",
          "text": [
            "error: 0.034282137721681184\n",
            "accuracy: 50.24413794779111\n"
          ],
          "name": "stdout"
        },
        {
          "output_type": "display_data",
          "data": {
            "image/png": "[encoded data removed]",
            "text/plain": [
              "<Figure size 432x288 with 1 Axes>"
            ]
          },
          "metadata": {
            "tags": []
          }
        },
        {
          "output_type": "execute_result",
          "data": {
            "text/plain": [
              "Text(0, 0.5, 'error')"
            ]
          },
          "metadata": {
            "tags": []
          },
          "execution_count": 30
        },
        {
          "output_type": "display_data",
          "data": {
            "image/png": "[encoded data removed]",
            "text/plain": [
              "<Figure size 432x288 with 1 Axes>"
            ]
          },
          "metadata": {
            "tags": []
          }
        }
      ]
    },
    {
      "cell_type": "code",
      "metadata": {
        "id": "twKVZpefZUAE",
        "colab_type": "code",
        "colab": {}
      },
      "source": [
        ""
      ],
      "execution_count": 0,
      "outputs": []
    }
  ]
}