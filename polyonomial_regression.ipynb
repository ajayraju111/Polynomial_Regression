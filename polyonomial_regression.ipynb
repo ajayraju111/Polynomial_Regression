{
  "nbformat": 4,
  "nbformat_minor": 0,
  "metadata": {
    "colab": {
      "name": "polyonomial regression",
      "version": "0.3.2",
      "provenance": [],
      "collapsed_sections": []
    },
    "kernelspec": {
      "name": "python3",
      "display_name": "Python 3"
    },
    "accelerator": "GPU"
  },
  "cells": [
    {
      "cell_type": "code",
      "metadata": {
        "id": "sFQqtzwtu72X",
        "colab_type": "code",
        "colab": {}
      },
      "source": [
        "import pandas as pd                                               #imported the required libraries\n",
        "import numpy as np\n",
        "import matplotlib.pyplot as plt\n",
        "import random"
      ],
      "execution_count": 0,
      "outputs": []
    },
    {
      "cell_type": "code",
      "metadata": {
        "id": "4yH6978KvIzU",
        "colab_type": "code",
        "colab": {}
      },
      "source": [
        "data=pd.read_csv(\"sample_data/california_housing_train.csv\")       #loading the data"
      ],
      "execution_count": 0,
      "outputs": []
    },
    {
      "cell_type": "code",
      "metadata": {
        "id": "YDeR7EWxvmAC",
        "colab_type": "code",
        "outputId": "441bd080-9bd2-4f78-e7fe-642e402ba441",
        "colab": {
          "base_uri": "https://localhost:8080/",
          "height": 311
        }
      },
      "source": [
        "data.corr()\n",
        "\n"
      ],
      "execution_count": 0,
      "outputs": [
        {
          "output_type": "execute_result",
          "data": {
            "text/html": [
              "<div>\n",
              "<style scoped>\n",
              "    .dataframe tbody tr th:only-of-type {\n",
              "        vertical-align: middle;\n",
              "    }\n",
              "\n",
              "    .dataframe tbody tr th {\n",
              "        vertical-align: top;\n",
              "    }\n",
              "\n",
              "    .dataframe thead th {\n",
              "        text-align: right;\n",
              "    }\n",
              "</style>\n",
              "<table border=\"1\" class=\"dataframe\">\n",
              "  <thead>\n",
              "    <tr style=\"text-align: right;\">\n",
              "      <th></th>\n",
              "      <th>longitude</th>\n",
              "      <th>latitude</th>\n",
              "      <th>housing_median_age</th>\n",
              "      <th>total_rooms</th>\n",
              "      <th>total_bedrooms</th>\n",
              "      <th>population</th>\n",
              "      <th>households</th>\n",
              "      <th>median_income</th>\n",
              "      <th>median_house_value</th>\n",
              "    </tr>\n",
              "  </thead>\n",
              "  <tbody>\n",
              "    <tr>\n",
              "      <th>longitude</th>\n",
              "      <td>1.000000</td>\n",
              "      <td>-0.925208</td>\n",
              "      <td>-0.114250</td>\n",
              "      <td>0.047010</td>\n",
              "      <td>0.071802</td>\n",
              "      <td>0.101674</td>\n",
              "      <td>0.059628</td>\n",
              "      <td>-0.015485</td>\n",
              "      <td>-0.044982</td>\n",
              "    </tr>\n",
              "    <tr>\n",
              "      <th>latitude</th>\n",
              "      <td>-0.925208</td>\n",
              "      <td>1.000000</td>\n",
              "      <td>0.016454</td>\n",
              "      <td>-0.038773</td>\n",
              "      <td>-0.069373</td>\n",
              "      <td>-0.111261</td>\n",
              "      <td>-0.074902</td>\n",
              "      <td>-0.080303</td>\n",
              "      <td>-0.144917</td>\n",
              "    </tr>\n",
              "    <tr>\n",
              "      <th>housing_median_age</th>\n",
              "      <td>-0.114250</td>\n",
              "      <td>0.016454</td>\n",
              "      <td>1.000000</td>\n",
              "      <td>-0.360984</td>\n",
              "      <td>-0.320434</td>\n",
              "      <td>-0.295890</td>\n",
              "      <td>-0.302754</td>\n",
              "      <td>-0.115932</td>\n",
              "      <td>0.106758</td>\n",
              "    </tr>\n",
              "    <tr>\n",
              "      <th>total_rooms</th>\n",
              "      <td>0.047010</td>\n",
              "      <td>-0.038773</td>\n",
              "      <td>-0.360984</td>\n",
              "      <td>1.000000</td>\n",
              "      <td>0.928403</td>\n",
              "      <td>0.860170</td>\n",
              "      <td>0.919018</td>\n",
              "      <td>0.195383</td>\n",
              "      <td>0.130991</td>\n",
              "    </tr>\n",
              "    <tr>\n",
              "      <th>total_bedrooms</th>\n",
              "      <td>0.071802</td>\n",
              "      <td>-0.069373</td>\n",
              "      <td>-0.320434</td>\n",
              "      <td>0.928403</td>\n",
              "      <td>1.000000</td>\n",
              "      <td>0.881169</td>\n",
              "      <td>0.980920</td>\n",
              "      <td>-0.013495</td>\n",
              "      <td>0.045783</td>\n",
              "    </tr>\n",
              "    <tr>\n",
              "      <th>population</th>\n",
              "      <td>0.101674</td>\n",
              "      <td>-0.111261</td>\n",
              "      <td>-0.295890</td>\n",
              "      <td>0.860170</td>\n",
              "      <td>0.881169</td>\n",
              "      <td>1.000000</td>\n",
              "      <td>0.909247</td>\n",
              "      <td>-0.000638</td>\n",
              "      <td>-0.027850</td>\n",
              "    </tr>\n",
              "    <tr>\n",
              "      <th>households</th>\n",
              "      <td>0.059628</td>\n",
              "      <td>-0.074902</td>\n",
              "      <td>-0.302754</td>\n",
              "      <td>0.919018</td>\n",
              "      <td>0.980920</td>\n",
              "      <td>0.909247</td>\n",
              "      <td>1.000000</td>\n",
              "      <td>0.007644</td>\n",
              "      <td>0.061031</td>\n",
              "    </tr>\n",
              "    <tr>\n",
              "      <th>median_income</th>\n",
              "      <td>-0.015485</td>\n",
              "      <td>-0.080303</td>\n",
              "      <td>-0.115932</td>\n",
              "      <td>0.195383</td>\n",
              "      <td>-0.013495</td>\n",
              "      <td>-0.000638</td>\n",
              "      <td>0.007644</td>\n",
              "      <td>1.000000</td>\n",
              "      <td>0.691871</td>\n",
              "    </tr>\n",
              "    <tr>\n",
              "      <th>median_house_value</th>\n",
              "      <td>-0.044982</td>\n",
              "      <td>-0.144917</td>\n",
              "      <td>0.106758</td>\n",
              "      <td>0.130991</td>\n",
              "      <td>0.045783</td>\n",
              "      <td>-0.027850</td>\n",
              "      <td>0.061031</td>\n",
              "      <td>0.691871</td>\n",
              "      <td>1.000000</td>\n",
              "    </tr>\n",
              "  </tbody>\n",
              "</table>\n",
              "</div>"
            ],
            "text/plain": [
              "                    longitude  latitude  ...  median_income  median_house_value\n",
              "longitude            1.000000 -0.925208  ...      -0.015485           -0.044982\n",
              "latitude            -0.925208  1.000000  ...      -0.080303           -0.144917\n",
              "housing_median_age  -0.114250  0.016454  ...      -0.115932            0.106758\n",
              "total_rooms          0.047010 -0.038773  ...       0.195383            0.130991\n",
              "total_bedrooms       0.071802 -0.069373  ...      -0.013495            0.045783\n",
              "population           0.101674 -0.111261  ...      -0.000638           -0.027850\n",
              "households           0.059628 -0.074902  ...       0.007644            0.061031\n",
              "median_income       -0.015485 -0.080303  ...       1.000000            0.691871\n",
              "median_house_value  -0.044982 -0.144917  ...       0.691871            1.000000\n",
              "\n",
              "[9 rows x 9 columns]"
            ]
          },
          "metadata": {
            "tags": []
          },
          "execution_count": 3
        }
      ]
    },
    {
      "cell_type": "code",
      "metadata": {
        "id": "k3Q1hn0xvymO",
        "colab_type": "code",
        "colab": {}
      },
      "source": [
        "features=data[[\"median_income\",\"total_bedrooms\"]] "
      ],
      "execution_count": 0,
      "outputs": []
    },
    {
      "cell_type": "code",
      "metadata": {
        "id": "mVNGAHhQx_lA",
        "colab_type": "code",
        "colab": {}
      },
      "source": [
        "target=data[\"median_house_value\"]"
      ],
      "execution_count": 0,
      "outputs": []
    },
    {
      "cell_type": "code",
      "metadata": {
        "id": "ilc9iZsqyBgB",
        "colab_type": "code",
        "outputId": "bf3e294f-f358-473f-8ccb-26d26432bde5",
        "colab": {
          "base_uri": "https://localhost:8080/",
          "height": 35
        }
      },
      "source": [
        "target.shape"
      ],
      "execution_count": 0,
      "outputs": [
        {
          "output_type": "execute_result",
          "data": {
            "text/plain": [
              "(17000,)"
            ]
          },
          "metadata": {
            "tags": []
          },
          "execution_count": 6
        }
      ]
    },
    {
      "cell_type": "code",
      "metadata": {
        "id": "IrPhO7RSyuUz",
        "colab_type": "code",
        "colab": {}
      },
      "source": [
        "features=np.array(features)\n",
        "target=np.array(target)"
      ],
      "execution_count": 0,
      "outputs": []
    },
    {
      "cell_type": "code",
      "metadata": {
        "id": "0DOQzesOUOy8",
        "colab_type": "code",
        "colab": {}
      },
      "source": [
        "features=features/features.max()\n",
        "target=target/target.max()"
      ],
      "execution_count": 0,
      "outputs": []
    },
    {
      "cell_type": "code",
      "metadata": {
        "id": "XDyrE52_y4W-",
        "colab_type": "code",
        "colab": {}
      },
      "source": [
        "def curve(m,x,c):\n",
        "  temp= m[0]*x.T[0]+m[1]*(x.T[1]**2) +c\n",
        "  temp=np.array(temp)\n",
        "  temp=np.reshape(temp,(1,len(temp)))\n",
        "  return temp\n",
        "def error(m,x,c,y):\n",
        "  return np.mean(curve(m,x,c)-y)**2\n",
        "\n",
        "\n",
        "def intercepts(m,x,c,y):\n",
        "  return 2*np.mean(curve(m,x,c)-y)\n",
        "def accuracy_pred(error,y):\n",
        "  currenterror=error(m,features,c,target)\n",
        "  arrow=(currenterror/np.mean(y**2))*100\n",
        "  return 100-arrow"
      ],
      "execution_count": 0,
      "outputs": []
    },
    {
      "cell_type": "code",
      "metadata": {
        "id": "R-SOSBHvOGpR",
        "colab_type": "code",
        "colab": {}
      },
      "source": [
        "def derivative_slope_1(m,x,c,y):\n",
        "  return 2*np.mean((curve(m,x,c)-y)*x.T[0]**1)\n",
        "def derivative_slope_2(m,x,c,y):\n",
        "  return 2*np.mean((curve(m,x,c)-y)*x.T[1]**2)"
      ],
      "execution_count": 0,
      "outputs": []
    },
    {
      "cell_type": "code",
      "metadata": {
        "id": "8dAE4J44yREZ",
        "colab_type": "code",
        "outputId": "35a9b111-66eb-4055-839c-c2ad92693b93",
        "colab": {
          "base_uri": "https://localhost:8080/",
          "height": 35
        }
      },
      "source": [
        "target=np.array(target)\n",
        "target=np.reshape(target,(1,len(target)))\n",
        "target.shape"
      ],
      "execution_count": 0,
      "outputs": [
        {
          "output_type": "execute_result",
          "data": {
            "text/plain": [
              "(1, 17000)"
            ]
          },
          "metadata": {
            "tags": []
          },
          "execution_count": 10
        }
      ]
    },
    {
      "cell_type": "code",
      "metadata": {
        "id": "e8BQWZAn5yLa",
        "colab_type": "code",
        "outputId": "cedf3354-4ce4-4365-8281-22b6613d11ef",
        "colab": {
          "base_uri": "https://localhost:8080/",
          "height": 347
        }
      },
      "source": [
        "from IPython.display import clear_output\n",
        "m=[random.random(),random.random()]\n",
        "c=random.random()\n",
        "cost=[]\n",
        "lr=0.00000001\n",
        "for i in range(0,1000):\n",
        "  m=m-lr*derivative_slope_1(m,features,c,target)\n",
        "  c=c-lr*derivative_slope_2(m,features,c,target)\n",
        "  cost.append(error(m,features,c,target))\n",
        "  clear_output(True)\n",
        "print(\"m\",m)\n",
        "print(\"c\",c)\n",
        "print(\"error:\",error(m,features,c,target))\n",
        "print(\"accuracy:\",accuracy_pred(error,target))\n",
        "plt.plot(cost)\n",
        "plt.show()"
      ],
      "execution_count": 0,
      "outputs": [
        {
          "output_type": "stream",
          "text": [
            "m [0.97355458 0.77184659]\n",
            "c 0.5422675552036161\n",
            "error: 0.018758277444856516\n",
            "accuracy: 91.68882776957636\n"
          ],
          "name": "stdout"
        },
        {
          "output_type": "display_data",
          "data": {
            "image/png": "[encoded data removed]",
            "text/plain": [
              "<Figure size 432x288 with 1 Axes>"
            ]
          },
          "metadata": {
            "tags": []
          }
        }
      ]
    },
    {
      "cell_type": "code",
      "metadata": {
        "id": "bzKlETxYSsLD",
        "colab_type": "code",
        "colab": {}
      },
      "source": [
        ""
      ],
      "execution_count": 0,
      "outputs": []
    }
  ]
}